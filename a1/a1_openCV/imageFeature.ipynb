{
 "cells": [
  {
   "cell_type": "code",
   "execution_count": null,
   "metadata": {
    "collapsed": true
   },
   "outputs": [],
   "source": [
    "for P1 in I1:\n",
    "\tfor P2 in I2:\n",
    "\t\tif P1 ~~ P2 patch:  # instead of match the pixel -> match the descriptor\n",
    "\t\t# if P1 color == P2: [color not invarient [this is not right]] \n",
    "\t\t\tprint \"match\"\n",
    "\t\telse:\n",
    "\t\t\tprint \"not match\"\n",
    "\n",
    "\n",
    "\t\t\t"
   ]
  },
  {
   "cell_type": "code",
   "execution_count": null,
   "metadata": {},
   "outputs": [],
   "source": [
    "select keypoint in I1 (K1)\n",
    "select keypoint in I1 (K1)\n",
    "# then do the for loop"
   ]
  }
 ],
 "metadata": {
  "kernelspec": {
   "display_name": "Python 2",
   "language": "python",
   "name": "python2"
  },
  "language_info": {
   "codemirror_mode": {
    "name": "ipython",
    "version": 2
   },
   "file_extension": ".py",
   "mimetype": "text/x-python",
   "name": "python",
   "nbconvert_exporter": "python",
   "pygments_lexer": "ipython2",
   "version": "2.7.6"
  }
 },
 "nbformat": 4,
 "nbformat_minor": 0
}
